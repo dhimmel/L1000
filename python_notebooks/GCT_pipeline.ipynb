{
 "cells": [
  {
   "cell_type": "code",
   "execution_count": null,
   "metadata": {
    "collapsed": true
   },
   "outputs": [],
   "source": [
    "import gzip\n",
    "import numpy as np\n",
    "import pandas as pd\n",
    "import itertools\n",
    "import sys\n",
    "\n",
    "# Append path to l1ktools/python, source hosted here: https://github.com/cmap/l1ktools\n",
    "sys.path.append('/PATH/TO/l1ktools/python')\n",
    "\n",
    "# Import LINCS_functions.py file\n",
    "# NOTE: Alter LINCS_functions.py file to contain YOUR local path to l1ktools (as above) and the LINCS modzs.gctx file\n",
    "sys.path.append('/PATH/TO/LINCS_functions.py')\n",
    "import LINCS_functions as lf"
   ]
  },
  {
   "cell_type": "code",
   "execution_count": null,
   "metadata": {
    "collapsed": true
   },
   "outputs": [],
   "source": []
  },
  {
   "cell_type": "code",
   "execution_count": null,
   "metadata": {
    "collapsed": true
   },
   "outputs": [],
   "source": [
    "# construct gene_df\n",
    "path = 'https://github.com/dhimmel/lincs/raw/gh-pages/data/geneinfo/geneinfo.tsv.gz'\n",
    "gene_df = lf.url_to_df(path)\n",
    "gene_df.head()"
   ]
  },
  {
   "cell_type": "code",
   "execution_count": null,
   "metadata": {
    "collapsed": true
   },
   "outputs": [],
   "source": [
    "# create list of bing and epi probes\n",
    "is_bing = gene_df[gene_df.is_bing == True]\n",
    "bing_list = list(is_bing.pr_id)\n",
    "is_epi = gene_df[(gene_df.pr_pool_id == 'epsilon') | (gene_df.pr_pool_id == 'epsilon|deltap')]\n",
    "epi_list = list(is_epi.pr_id)"
   ]
  },
  {
   "cell_type": "code",
   "execution_count": null,
   "metadata": {
    "collapsed": true
   },
   "outputs": [],
   "source": [
    "# construct pert_df\n",
    "path = 'https://github.com/dhimmel/lincs/raw/d42347fcb53c30afed705b973fb52a1ae45a26b1/data/pertinfo/pertinfo.tsv.gz'\n",
    "pert_df = lf.url_to_df(path)\n",
    "pert_df = pert_df[['pert_id', 'pubchem_cid']]\n",
    "pert_df.rename(columns={'pubchem_cid':'pubchem_id'}, inplace=True)\n",
    "pert_df.pubchem_id = pert_df['pubchem_id'].astype(str) # when merging frames later, easier to merge strings\n",
    "pert_df.head()"
   ]
  },
  {
   "cell_type": "code",
   "execution_count": null,
   "metadata": {
    "collapsed": true
   },
   "outputs": [],
   "source": [
    "# construct sig_df\n",
    "path = 'https://github.com/dhimmel/lincs/raw/d42347fcb53c30afed705b973fb52a1ae45a26b1/data/siginfo/siginfo.tsv.gz'\n",
    "sig_df = lf.url_to_df(path)\n",
    "sig_df.head()"
   ]
  },
  {
   "cell_type": "code",
   "execution_count": null,
   "metadata": {
    "collapsed": true
   },
   "outputs": [],
   "source": [
    "# construct drugbank_df\n",
    "path = 'https://github.com/dhimmel/drugbank/raw/e8567eed2dd48ae0694a0960c518763a777845ff/data/mapping/pubchem.tsv'\n",
    "drugbank_df = pd.read_table(path)\n",
    "drugbank_df.pubchem_id = drugbank_df['pubchem_id'].astype(str)\n",
    "drugbank_df.head()"
   ]
  },
  {
   "cell_type": "code",
   "execution_count": null,
   "metadata": {
    "collapsed": true
   },
   "outputs": [],
   "source": [
    "# create dataframe with meta-data for perturbagens which map to drugbank drugs\n",
    "db_meta_df = drugbank_df.merge(pert_df, how='inner').merge(sig_df[sig_df.is_gold == True], how='inner')\n",
    "db_meta_df.head()"
   ]
  },
  {
   "cell_type": "code",
   "execution_count": null,
   "metadata": {
    "collapsed": true
   },
   "outputs": [],
   "source": [
    "# create signature (gold) expression dataframe\n",
    "\n",
    "gold_sig = list(sig_df.sig_id[sig_df.is_gold == True & sig_df.pert_type.isin({'trt_cp', 'ctl_vehicle'})])\n",
    "sig_expr_df = lf.extract_from_gctx(gctx_path, epi_list, gold_sig)\n",
    "\n",
    "# Condense to perturbagens (pert_expr_df)\n",
    "pert_to_sig_dic = {k: g['sig_id'].tolist() for k, g in sig_df.groupby('pert_id')}\n",
    "pert_expr_df = lf.get_consensus_signatures(sig_expr_df, pert_to_sig_dic)\n",
    "\n",
    "#Condense to drugbank drugs (db_expr_df)\n",
    "db_to_sig_dic = {k: g['sig_id'].tolist() for k, g in db_meta_df.groupby('drugbank_id')}\n",
    "db_expr_df = lf.get_consensus_signatures(sig_expr_df, db_to_sig_dic)\n",
    "\n",
    "# Condense to genes\n",
    "probe_to_gene = dict(zip(gene_df.pr_id, gene_df.pr_gene_id))\n",
    "pert_expr_df = lf.probes_to_genes(pert_expr_df, probe_to_gene)\n",
    "db_expr_df = lf.probes_to_genes(db_expr_df, probe_to_gene)"
   ]
  },
  {
   "cell_type": "code",
   "execution_count": null,
   "metadata": {
    "collapsed": true
   },
   "outputs": [],
   "source": [
    "db_expr_df.head()"
   ]
  },
  {
   "cell_type": "code",
   "execution_count": null,
   "metadata": {
    "collapsed": true
   },
   "outputs": [],
   "source": [
    "pert_expr_df.head()"
   ]
  },
  {
   "cell_type": "code",
   "execution_count": null,
   "metadata": {
    "collapsed": true
   },
   "outputs": [],
   "source": [
    "# SAVE pert_expr_df\n",
    "path = \"PATH/TO/SAVE/TO/pert_expr_df.csv.gz\"\n",
    "with gzip.open(path, \"w\") as writefile:\n",
    "    pert_expr_df.to_csv(writefile, sep='\\t', float_format='%.3f')"
   ]
  },
  {
   "cell_type": "code",
   "execution_count": null,
   "metadata": {
    "collapsed": true
   },
   "outputs": [],
   "source": [
    "# SAVE db_expr_df\n",
    "path = \"PATH/TO/SAVE/TO/db_expr_df.csv.gz\"\n",
    "with gzip.open(path, \"w\") as writefile:\n",
    "    db_expr_df.to_csv(writefile, sep='\\t', float_format='%.3f')"
   ]
  },
  {
   "cell_type": "code",
   "execution_count": null,
   "metadata": {
    "collapsed": true
   },
   "outputs": [],
   "source": []
  }
 ],
 "metadata": {
  "kernelspec": {
   "display_name": "Python 2",
   "language": "python",
   "name": "python2"
  },
  "language_info": {
   "codemirror_mode": {
    "name": "ipython",
    "version": 2
   },
   "file_extension": ".py",
   "mimetype": "text/x-python",
   "name": "python",
   "nbconvert_exporter": "python",
   "pygments_lexer": "ipython2",
   "version": "2.7.10"
  }
 },
 "nbformat": 4,
 "nbformat_minor": 0
}
